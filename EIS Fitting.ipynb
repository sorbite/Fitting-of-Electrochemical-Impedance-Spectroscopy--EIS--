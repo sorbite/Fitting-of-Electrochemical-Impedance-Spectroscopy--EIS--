{
 "cells": [
  {
   "cell_type": "markdown",
   "metadata": {},
   "source": [
    "# Using impedance.py to fit the EIS impedance"
   ]
  },
  {
   "cell_type": "code",
   "execution_count": 13,
   "metadata": {
    "scrolled": true
   },
   "outputs": [
    {
     "name": "stdout",
     "output_type": "stream",
     "text": [
      "[[1.0001951e+05 2.5573708e+02 2.3302980e+01 ... 1.0000000e+05\n",
      "  3.2200000e+02 7.8700000e+01]\n",
      " [7.9121078e+04 2.5796289e+02 2.0019239e+01 ... 7.9100000e+04\n",
      "  3.2800000e+02 8.8600000e+01]\n",
      " [6.2607406e+04 2.5959836e+02 1.6947983e+01 ... 6.2600000e+04\n",
      "  3.3400000e+02 1.0100000e+02]\n",
      " ...\n",
      " [1.5969276e-01 3.7202454e+02 2.9312554e+03 ... 1.6000000e-01\n",
      "  1.9700000e+06 3.5600000e+06]\n",
      " [1.2635216e-01 3.8698108e+02 3.6916462e+03 ... 1.2600000e-01\n",
      "  2.4200000e+06 4.1000000e+06]\n",
      " [1.0005087e-01 4.0554095e+02 4.6470522e+03 ... 1.0000000e-01\n",
      "  2.9400000e+06 4.6800000e+06]]\n",
      "[255.73708-2.3302980e+01j 257.96289-2.0019239e+01j\n",
      " 259.59836-1.6947983e+01j 261.08597-1.4611738e+01j\n",
      " 262.57779-1.2693474e+01j 263.25327-1.0590907e+01j\n",
      " 264.08499-8.9938116e+00j 264.76248-7.6520004e+00j\n",
      " 265.23096-6.6402149e+00j 265.81989-5.5229521e+00j\n",
      " 266.34955-5.1260886e+00j 266.85236-4.5968399e+00j\n",
      " 266.78479-4.5066767e+00j 267.66315-4.0594335e+00j\n",
      " 267.55536-3.8133225e+00j 268.16034-4.0057964e+00j\n",
      " 268.41476-4.2132792e+00j 269.11261-4.1855092e+00j\n",
      " 269.41287-4.8283420e+00j 269.91833-5.2334638e+00j\n",
      " 270.51324-5.6058183e+00j 271.14792-6.3381801e+00j\n",
      " 271.74725-6.8363938e+00j 272.56448-7.5604773e+00j\n",
      " 273.67764-8.9771061e+00j 274.56219-1.0387669e+01j\n",
      " 275.62396-1.1552955e+01j 277.19504-1.3178354e+01j\n",
      " 278.58032-1.4851254e+01j 280.47281-1.6866323e+01j\n",
      " 282.75919-1.9247818e+01j 285.0332 -2.1626780e+01j\n",
      " 287.51846-2.4127270e+01j 290.72476-2.6940472e+01j\n",
      " 293.59247-2.9957033e+01j 296.22714-3.3316086e+01j\n",
      " 298.6821 -3.7578873e+01j 301.14874-4.2883350e+01j\n",
      " 303.14944-4.9988583e+01j 305.28876-5.8949371e+01j\n",
      " 307.28867-7.0468193e+01j 310.05493-8.4381020e+01j\n",
      " 312.67426-1.0295484e+02j 314.63855-1.2605581e+02j\n",
      " 315.61908-1.5566551e+02j 318.4902 -1.9502258e+02j\n",
      " 321.47253-2.3986537e+02j 321.73636-3.0036130e+02j\n",
      " 326.29785-3.7651355e+02j 326.82584-4.6989417e+02j\n",
      " 331.71933-5.9019666e+02j 332.28049-7.3909015e+02j\n",
      " 338.93958-9.2979315e+02j 340.50525-1.1694564e+03j\n",
      " 346.68903-1.4707170e+03j 353.9545 -1.8524908e+03j\n",
      " 360.08484-2.3267681e+03j 372.02454-2.9312554e+03j\n",
      " 386.98108-3.6916462e+03j 405.54095-4.6470522e+03j]\n",
      "[1.0001951e+05 7.9121078e+04 6.2607406e+04 4.9531234e+04 3.9189441e+04\n",
      " 3.1015619e+04 2.4541012e+04 1.9414059e+04 1.5361323e+04 1.2158199e+04\n",
      " 9.7537256e+03 7.7444312e+03 6.1255767e+03 4.7634761e+03 3.7687942e+03\n",
      " 2.9828621e+03 2.3592412e+03 1.8667950e+03 1.4773607e+03 1.1688768e+03\n",
      " 9.2470642e+02 7.3163953e+02 5.7907324e+02 4.5809445e+02 3.6256311e+02\n",
      " 2.8674304e+02 2.2696107e+02 1.7959773e+02 1.4204532e+02 1.1240989e+02\n",
      " 8.8946518e+01 7.0382652e+01 5.5695026e+01 4.4055431e+01 3.4855007e+01\n",
      " 2.7573555e+01 2.1822601e+01 1.7271563e+01 1.3658180e+01 1.0813176e+01\n",
      " 8.5569172e+00 6.7699323e+00 5.3546944e+00 4.2367125e+00 3.3530068e+00\n",
      " 2.6518998e+00 2.1001322e+00 1.6604661e+00 1.3145728e+00 1.0395868e+00\n",
      " 8.2297617e-01 6.5104139e-01 5.1486117e-01 4.0777177e-01 3.2229796e-01\n",
      " 2.5507733e-01 2.0193607e-01 1.5969276e-01 1.2635216e-01 1.0005087e-01]\n"
     ]
    }
   ],
   "source": [
    "import numpy as np\n",
    "data = np.genfromtxt('./EIS_data.csv', delimiter=',')\n",
    "frequencies = data[:,0]\n",
    "Z = data[:,1] - 1j*data[:,2]\n",
    "# keep only the impedance data in the first quandrant\n",
    "frequencies = frequencies[np.imag(Z) < 0]\n",
    "Z = Z[np.imag(Z) < 0]\n",
    "print(data)\n",
    "print(Z)\n",
    "print(frequencies)"
   ]
  },
  {
   "cell_type": "code",
   "execution_count": 14,
   "metadata": {},
   "outputs": [
    {
     "name": "stdout",
     "output_type": "stream",
     "text": [
      "no display found. Using non-interactive Agg backend\n"
     ]
    }
   ],
   "source": [
    "from impedance.circuits import CustomCircuit"
   ]
  },
  {
   "cell_type": "code",
   "execution_count": 61,
   "metadata": {},
   "outputs": [],
   "source": [
    "circuit = 'R0-p(R1,C1)-W1/W2-C2)'\n",
    "initial_guess = [.01, .01, 100, .01, .05, 0.01]\n",
    "circuit = CustomCircuit(circuit, initial_guess=initial_guess)"
   ]
  },
  {
   "cell_type": "code",
   "execution_count": 62,
   "metadata": {},
   "outputs": [
    {
     "data": {
      "text/plain": [
       "<impedance.circuits.CustomCircuit at 0x264d9fb1978>"
      ]
     },
     "execution_count": 62,
     "metadata": {},
     "output_type": "execute_result"
    }
   ],
   "source": [
    "circuit.fit(frequencies, Z)"
   ]
  },
  {
   "cell_type": "code",
   "execution_count": 63,
   "metadata": {},
   "outputs": [],
   "source": [
    "Z_fit = circuit.predict(frequencies)"
   ]
  },
  {
   "cell_type": "code",
   "execution_count": 64,
   "metadata": {
    "scrolled": true
   },
   "outputs": [
    {
     "name": "stdout",
     "output_type": "stream",
     "text": [
      "\n",
      "-------------------------------\n",
      "Circuit: None\n",
      "Circuit string: R0-p(R1,C1)-W1/W2-C2)\n",
      "Fit: True\n",
      "\n",
      "-------------------------------\n",
      "Fit parameters:\n",
      "\tR0 = 2.64e+02\n",
      "\tR1 = 8.92e+01\n",
      "\tC1 = 7.91e-03\n",
      "\tW1 = 1.66e+02\n",
      "\tW2 = 9.70e-02\n",
      "\tC2 = 8.42e-04\n",
      "\n"
     ]
    }
   ],
   "source": [
    "print(circuit)"
   ]
  },
  {
   "cell_type": "code",
   "execution_count": null,
   "metadata": {},
   "outputs": [],
   "source": []
  },
  {
   "cell_type": "code",
   "execution_count": null,
   "metadata": {},
   "outputs": [],
   "source": [
    "\n"
   ]
  }
 ],
 "metadata": {
  "kernelspec": {
   "display_name": "Python 3",
   "language": "python",
   "name": "python3"
  },
  "language_info": {
   "codemirror_mode": {
    "name": "ipython",
    "version": 3
   },
   "file_extension": ".py",
   "mimetype": "text/x-python",
   "name": "python",
   "nbconvert_exporter": "python",
   "pygments_lexer": "ipython3",
   "version": "3.7.1"
  }
 },
 "nbformat": 4,
 "nbformat_minor": 2
}
